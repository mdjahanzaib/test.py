{
 "cells": [
  {
   "cell_type": "code",
   "execution_count": 1,
   "id": "ede2116f",
   "metadata": {},
   "outputs": [
    {
     "name": "stdout",
     "output_type": "stream",
     "text": [
      "Library not found in any directory.\n"
     ]
    }
   ],
   "source": [
    "def detect_name(lib_name, dir_list):\n",
    "    for directory in dir_list:\n",
    "        if lib_name in directory:\n",
    "            return directory\n",
    "    return \"Library not found in any directory.\"\n",
    "\n",
    "dir_list = [\n",
    "    \"lib_poetry 1.12_src\",\n",
    "    \"allan_poe 1.12.2\",\n",
    "    \"poetry-dev 1.12.1_src\",\n",
    "    \"poetry v1.12.2_src\",\n",
    "    \"edgar allan poetry\",\n",
    "    \"poetry 2.43.1\",\n",
    "]\n",
    "\n",
    "print(detect_name(\"poetry 1.12.2\", dir_list))"
   ]
  },
  {
   "cell_type": "code",
   "execution_count": 2,
   "id": "1abdb534",
   "metadata": {},
   "outputs": [
    {
     "name": "stdout",
     "output_type": "stream",
     "text": [
      "edgar allan poetry\n"
     ]
    }
   ],
   "source": [
    "def detect_name(lib_name, dir_list):\n",
    "    for directory in dir_list:\n",
    "        if lib_name in directory:\n",
    "            return directory\n",
    "    return \"Library not found in any directory.\"\n",
    "\n",
    "dir_list = [\n",
    "    \"lib_poetry 1.12_src\",\n",
    "    \"allan_poe 1.12.2\",\n",
    "    \"poetry-dev 1.12.1_src\",\n",
    "    \"poetry v1.12.2_src\",\n",
    "    \"edgar allan poetry\",\n",
    "    \"poetry 2.43.1\",\n",
    "]\n",
    "\n",
    "print(detect_name(\"edgar allan poetry\", dir_list))"
   ]
  },
  {
   "cell_type": "code",
   "execution_count": null,
   "id": "4a99aa83",
   "metadata": {},
   "outputs": [],
   "source": []
  }
 ],
 "metadata": {
  "kernelspec": {
   "display_name": "Python 3 (ipykernel)",
   "language": "python",
   "name": "python3"
  },
  "language_info": {
   "codemirror_mode": {
    "name": "ipython",
    "version": 3
   },
   "file_extension": ".py",
   "mimetype": "text/x-python",
   "name": "python",
   "nbconvert_exporter": "python",
   "pygments_lexer": "ipython3",
   "version": "3.10.9"
  }
 },
 "nbformat": 4,
 "nbformat_minor": 5
}
